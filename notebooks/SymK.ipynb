{
 "cells": [
  {
   "cell_type": "markdown",
   "id": "e3cf0883",
   "metadata": {},
   "source": [
    "# ICAPS 2024 Tutorial: Finding multiple plans - SymK"
   ]
  },
  {
   "cell_type": "markdown",
   "id": "ebb12ab8",
   "metadata": {},
   "source": [
    "In order to use SymK, it is necessary to install it together with the Unified Planning Library where SymK is integrated.\n",
    "\n",
    "**Note**: If you want to use the latest version of SymK with the best raw performance and newest features, it might be worth to check the [github repository of SymK](https://github.com/speckdavid/symk) and install it as a standalone tool."
   ]
  },
  {
   "cell_type": "code",
   "execution_count": 31,
   "id": "2dcec7e3",
   "metadata": {
    "scrolled": true
   },
   "outputs": [],
   "source": [
    "from IPython.display import clear_output\n",
    "\n",
    "# SymK (integrated in the unified-planning library)\n",
    "!pip install unified-planning==1.1.0\n",
    "!pip install up-symk==1.3.1\n",
    "clear_output(wait=False)"
   ]
  },
  {
   "cell_type": "code",
   "execution_count": 11,
   "id": "54204a66",
   "metadata": {},
   "outputs": [],
   "source": [
    "import sys\n",
    "from collections import defaultdict\n",
    "\n",
    "import unified_planning as up\n",
    "import up_symk\n",
    "from unified_planning.shortcuts import *\n",
    "from unified_planning.io import PDDLReader"
   ]
  },
  {
   "cell_type": "markdown",
   "id": "fbf3f019",
   "metadata": {},
   "source": [
    "## Domain and Problem Files\n",
    "We use the iconic problem number one of the gripper domain, where the goal is to move two\n",
    "balls from room A to room B with a gripper that has two arms.\n",
    "\n",
    "We need to download the domain and problem files described in PDDL for the planning task we aim to solve. Following this, we read and use these files to create a PDDL problem, setting the quality metric to minimize the plan length."
   ]
  },
  {
   "cell_type": "code",
   "execution_count": 3,
   "id": "62b37615",
   "metadata": {},
   "outputs": [],
   "source": [
    "!wget https://raw.githubusercontent.com/speckdavid/up-symk/master/notebooks/gripper-domain.pddl\n",
    "!wget https://raw.githubusercontent.com/speckdavid/up-symk/master/notebooks/gripper-prob01.pddl\n",
    "clear_output(wait=False)"
   ]
  },
  {
   "cell_type": "code",
   "execution_count": 13,
   "id": "db40758b",
   "metadata": {},
   "outputs": [],
   "source": [
    "reader = PDDLReader()\n",
    "pddl_problem = reader.parse_problem(\"gripper-domain.pddl\", \"gripper-prob-two-balls.pddl\")\n",
    "if len(pddl_problem.quality_metrics) == 0:\n",
    "    pddl_problem.add_quality_metric(MinimizeSequentialPlanLength())"
   ]
  },
  {
   "cell_type": "markdown",
   "id": "7ab964b3",
   "metadata": {},
   "source": [
    "## Validator\n",
    "We define two functions that serve as helper functions to evaluate the found plans and calculate the cost of the plans."
   ]
  },
  {
   "cell_type": "code",
   "execution_count": 14,
   "id": "9f025ef9",
   "metadata": {},
   "outputs": [],
   "source": [
    "def get_plan_cost(problem, plan):\n",
    "    pv = PlanValidator(problem_kind=problem.kind)\n",
    "    pv_res = pv.validate(problem, plan)\n",
    "    return pv_res.metric_evaluations[problem.quality_metrics[0]]\n",
    "\n",
    "def get_plans_by_cost(problem, plans):\n",
    "    pv = PlanValidator(problem_kind=problem.kind)\n",
    "    plans_by_cost = defaultdict(lambda: [])\n",
    "    for plan in plans:\n",
    "        pv_res = pv.validate(problem, plan)\n",
    "        cost = pv_res.metric_evaluations[problem.quality_metrics[0]]\n",
    "        plans_by_cost[cost].append(result.plan)\n",
    "    return plans_by_cost"
   ]
  },
  {
   "cell_type": "markdown",
   "id": "fb03e2ef",
   "metadata": {},
   "source": [
    "## Finding a single optimal solution\n",
    "We solve our gripper problem optimally with ``symk-opt``."
   ]
  },
  {
   "cell_type": "code",
   "execution_count": 15,
   "id": "23a8eefa",
   "metadata": {},
   "outputs": [
    {
     "name": "stdout",
     "output_type": "stream",
     "text": [
      "SymK (with optimality guarantee) found this plan: SequentialPlan:\n",
      "    pick(ball2, rooma, right)\n",
      "    pick(ball1, rooma, left)\n",
      "    move(rooma, roomb)\n",
      "    drop(ball1, roomb, left)\n",
      "    drop(ball2, roomb, right) with cost 5.\n"
     ]
    }
   ],
   "source": [
    "with OneshotPlanner(name='symk-opt') as planner:\n",
    "    result = planner.solve(pddl_problem) # output_stream=sys.stdout\n",
    "    if result.status in unified_planning.engines.results.POSITIVE_OUTCOMES:\n",
    "        cost = get_plan_cost(pddl_problem, result.plan)\n",
    "        print(f\"{planner.name} found this plan: {result.plan} with cost {cost}.\")\n",
    "    else:\n",
    "        print(\"No plan found.\")\n",
    "        \n",
    "# We do not want to see the credits again and again, so let's disable them from now on.\n",
    "up.shortcuts.get_environment().credits_stream = None"
   ]
  },
  {
   "cell_type": "markdown",
   "id": "466266be",
   "metadata": {},
   "source": [
    "## Finding multiple optimal solutions\n",
    "We solve our gripper problem with ``symk-opt`` and ask for three optimal solutions, which are reported."
   ]
  },
  {
   "cell_type": "code",
   "execution_count": 16,
   "id": "8d28bee7",
   "metadata": {},
   "outputs": [
    {
     "name": "stdout",
     "output_type": "stream",
     "text": [
      "Plan 1: SequentialPlan:\n",
      "    pick(ball2, rooma, right)\n",
      "    pick(ball1, rooma, left)\n",
      "    move(rooma, roomb)\n",
      "    drop(ball1, roomb, left)\n",
      "    drop(ball2, roomb, right) with cost 5.\n",
      "\n",
      "Plan 2: SequentialPlan:\n",
      "    pick(ball2, rooma, right)\n",
      "    pick(ball1, rooma, left)\n",
      "    move(rooma, roomb)\n",
      "    drop(ball2, roomb, right)\n",
      "    drop(ball1, roomb, left) with cost 5.\n",
      "\n",
      "Plan 3: SequentialPlan:\n",
      "    pick(ball1, rooma, left)\n",
      "    pick(ball2, rooma, right)\n",
      "    move(rooma, roomb)\n",
      "    drop(ball1, roomb, left)\n",
      "    drop(ball2, roomb, right) with cost 5.\n",
      "\n",
      "SymK (with optimality guarantee) found 3 optimal plans with cost 5.\n"
     ]
    }
   ],
   "source": [
    "plans = []\n",
    "\n",
    "with AnytimePlanner(name='symk-opt', params={\"number_of_plans\": 3}) as planner:\n",
    "    for i, result in enumerate(planner.get_solutions(pddl_problem)): # output_stream=sys.stdout: \n",
    "        if result.status == up.engines.PlanGenerationResultStatus.INTERMEDIATE:\n",
    "            plans.append(result.plan)\n",
    "            print(f\"Plan {i+1}: {result.plan} with cost {get_plan_cost(pddl_problem, result.plan)}.\\n\")\n",
    "        elif result.status in unified_planning.engines.results.POSITIVE_OUTCOMES:\n",
    "            for cost, plans in get_plans_by_cost(pddl_problem, plans).items():\n",
    "                print(f\"{planner.name} found {len(plans)} optimal plans with cost {cost}.\")\n",
    "        elif result.status not in unified_planning.engines.results.POSITIVE_OUTCOMES:\n",
    "            print(\"No plan found.\") "
   ]
  },
  {
   "cell_type": "markdown",
   "id": "a49bd090",
   "metadata": {},
   "source": [
    "## Finding all optimal solutions\n",
    "We find all optimal solutions (using ``symk-opt``) and report the number of existing optimal plans and their cost. Note that by default the number of plans generated in Anytime mode is 1, so you need to specify the number (None sets it to infinite)."
   ]
  },
  {
   "cell_type": "code",
   "execution_count": 29,
   "id": "69c01782",
   "metadata": {},
   "outputs": [
    {
     "name": "stdout",
     "output_type": "stream",
     "text": [
      "\n",
      "SymK (with optimality guarantee) found 8 plans!\n",
      "\n",
      "Calculate the cost of the plans found...\n",
      "SymK (with optimality guarantee) found 8 plans with cost 5.\n"
     ]
    }
   ],
   "source": [
    "plans = []\n",
    "\n",
    "with AnytimePlanner(name='symk-opt', problem_kind=pddl_problem.kind, anytime_guarantee=\"OPTIMAL_PLANS\", \n",
    "                    params={\"number_of_plans\": None}) as planner:\n",
    "    for i, result in enumerate(planner.get_solutions(pddl_problem)): # output_stream=sys.stdout): \n",
    "        if result.status == up.engines.PlanGenerationResultStatus.INTERMEDIATE:\n",
    "            plans.append(result.plan)\n",
    "            if i > 0 and i % 10 == 0:\n",
    "                print(f\"{planner.name} found {i} plans...\")\n",
    "        elif result.status in unified_planning.engines.results.POSITIVE_OUTCOMES:\n",
    "            print(f\"\\n{planner.name} found {i} plans!\\n\")\n",
    "        elif result.status not in unified_planning.engines.results.POSITIVE_OUTCOMES:\n",
    "            print(\"No plan found.\")\n",
    "            \n",
    "# Calculate the cost of the plans found\n",
    "print(\"Calculate the cost of the plans found...\")\n",
    "for cost, plans in get_plans_by_cost(pddl_problem, plans).items():\n",
    "    print(f\"{planner.name} found {len(plans)} plans with cost {cost}.\")"
   ]
  },
  {
   "cell_type": "markdown",
   "id": "6c175250",
   "metadata": {},
   "source": [
    "## Finding multiple solutions ordered by cost\n",
    "Again, we solve our gripper problem and this time we ask for 50 plans, of which 8 plans are optimal."
   ]
  },
  {
   "cell_type": "code",
   "execution_count": 30,
   "id": "253b5799",
   "metadata": {},
   "outputs": [
    {
     "name": "stdout",
     "output_type": "stream",
     "text": [
      "SymK found 10 plans...\n",
      "SymK found 20 plans...\n",
      "SymK found 30 plans...\n",
      "SymK found 40 plans...\n",
      "\n",
      "SymK found 50 plans!\n",
      "\n",
      "Calculate the cost of the plans found...\n",
      "SymK found 8 plans with cost 5.\n",
      "SymK found 8 plans with cost 6.\n",
      "SymK found 34 plans with cost 7.\n"
     ]
    }
   ],
   "source": [
    "# Find 500 plans with SymK\n",
    "plans = []\n",
    "\n",
    "with AnytimePlanner(name='symk', params={\"number_of_plans\": 50}) as planner:\n",
    "    for i, result in enumerate(planner.get_solutions(pddl_problem)): # output_stream=sys.stdout): \n",
    "        if result.status == up.engines.PlanGenerationResultStatus.INTERMEDIATE:\n",
    "            plans.append(result.plan)\n",
    "            if i > 0 and i % 10 == 0:\n",
    "                print(f\"{planner.name} found {i} plans...\")\n",
    "        elif result.status in unified_planning.engines.results.POSITIVE_OUTCOMES:\n",
    "            print(f\"\\n{planner.name} found {i} plans!\\n\")\n",
    "        elif result.status not in unified_planning.engines.results.POSITIVE_OUTCOMES:\n",
    "            print(\"No plan found.\")\n",
    "\n",
    "# Calculate the cost of the plans found\n",
    "print(\"Calculate the cost of the plans found...\")\n",
    "for cost, plans in get_plans_by_cost(pddl_problem, plans).items():\n",
    "    print(f\"{planner.name} found {len(plans)} plans with cost {cost}.\")"
   ]
  },
  {
   "cell_type": "markdown",
   "id": "3990fd18",
   "metadata": {},
   "source": [
    "# Finding Loopless Plans\n",
    "\n",
    "Finally, you can also request to find only loopless plans by adding it to the param section."
   ]
  },
  {
   "cell_type": "code",
   "execution_count": 25,
   "id": "3e2a3d0d",
   "metadata": {},
   "outputs": [
    {
     "name": "stdout",
     "output_type": "stream",
     "text": [
      "\n",
      "SymK found 50 plans!\n",
      "\n",
      "Calculate the cost of the plans found...\n",
      "SymK found 8 plans with cost 5.\n",
      "SymK found 8 plans with cost 6.\n",
      "SymK found 8 plans with cost 7.\n",
      "SymK found 8 plans with cost 8.\n",
      "SymK found 18 plans with cost 9.\n"
     ]
    }
   ],
   "source": [
    "# Find 500 plans with SymK\n",
    "plans = []\n",
    "\n",
    "with AnytimePlanner(name='symk', params={\"number_of_plans\": 50, \"loopless\": True}) as planner:\n",
    "    for i, result in enumerate(planner.get_solutions(pddl_problem)): # output_stream=sys.stdout): \n",
    "        if result.status == up.engines.PlanGenerationResultStatus.INTERMEDIATE:\n",
    "            plans.append(result.plan)\n",
    "            if i > 0 and i % 100 == 0:\n",
    "                print(f\"{planner.name} found {i} plans...\")\n",
    "        elif result.status in unified_planning.engines.results.POSITIVE_OUTCOMES:\n",
    "            print(f\"\\n{planner.name} found {i} plans!\\n\")\n",
    "        elif result.status not in unified_planning.engines.results.POSITIVE_OUTCOMES:\n",
    "            print(\"No plan found.\")\n",
    "\n",
    "# Calculate the cost of the plans found\n",
    "print(\"Calculate the cost of the plans found...\")\n",
    "for cost, plans in get_plans_by_cost(pddl_problem, plans).items():\n",
    "    print(f\"{planner.name} found {len(plans)} plans with cost {cost}.\")"
   ]
  }
 ],
 "metadata": {
  "kernelspec": {
   "display_name": "Python 3 (ipykernel)",
   "language": "python",
   "name": "python3"
  },
  "language_info": {
   "codemirror_mode": {
    "name": "ipython",
    "version": 3
   },
   "file_extension": ".py",
   "mimetype": "text/x-python",
   "name": "python",
   "nbconvert_exporter": "python",
   "pygments_lexer": "ipython3",
   "version": "3.10.12"
  }
 },
 "nbformat": 4,
 "nbformat_minor": 5
}
