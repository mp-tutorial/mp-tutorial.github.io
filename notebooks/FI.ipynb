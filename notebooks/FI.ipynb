{
 "cells": [
  {
   "cell_type": "markdown",
   "id": "e3cf0883",
   "metadata": {},
   "source": [
    "# ICAPS 2024 Tutorial: Finding multiple plans - ForbidIterative"
   ]
  },
  {
   "cell_type": "markdown",
   "id": "ebb12ab8",
   "metadata": {},
   "source": [
    "ForbidIterative planner can be installed via pip."
   ]
  },
  {
   "cell_type": "code",
   "execution_count": 1,
   "id": "2dcec7e3",
   "metadata": {
    "scrolled": true
   },
   "outputs": [],
   "source": [
    "from IPython.display import clear_output\n",
    "\n",
    "!pip install forbiditerative==1.0.13\n",
    "clear_output(wait=False)"
   ]
  },
  {
   "cell_type": "markdown",
   "id": "fbf3f019",
   "metadata": {},
   "source": [
    "## Domain and Problem Files\n",
    "We use the iconic problem number one of the gripper domain, where the goal is to move two\n",
    "balls from room A to room B with a gripper that has two arms.\n",
    "\n",
    "<br>\n",
    "<img src=\"https://github.com/mp-tutorial/mp-tutorial.github.io/blob/main/notebooks/gripper-two-balls.png?raw=true\" width=600>\n",
    "<br>\n",
    "\n",
    "We need to download the domain and problem files described in PDDL for the planning task we aim to solve. Following this, we read and use these files to create a PDDL problem, setting the quality metric to minimize the plan length."
   ]
  },
  {
   "cell_type": "code",
   "execution_count": 2,
   "id": "62b37615",
   "metadata": {},
   "outputs": [],
   "source": [
    "!wget https://raw.githubusercontent.com/mp-tutorial/mp-tutorial.github.io/main/notebooks/gripper-domain.pddl\n",
    "!wget https://raw.githubusercontent.com/mp-tutorial/mp-tutorial.github.io/main/notebooks/gripper-prob-two-balls.pddl\n",
    "\n",
    "def count_plans_by_cost(plans):\n",
    "    res = {}\n",
    "    for plan in plans:\n",
    "        c = plan[\"cost\"]\n",
    "        if c not in res:\n",
    "            res[c] = 0\n",
    "        res[c] += 1\n",
    "    return res\n",
    "\n",
    "from forbiditerative import planners\n",
    "from pathlib import Path\n",
    "\n",
    "domain_file = Path(\"gripper-domain.pddl\")\n",
    "problem_file = Path(\"gripper-prob-two-balls.pddl\")\n",
    "\n",
    "clear_output(wait=False)"
   ]
  },
  {
   "cell_type": "markdown",
   "id": "4ff29470",
   "metadata": {},
   "source": [
    "## Diverse planning"
   ]
  },
  {
   "cell_type": "code",
   "execution_count": 3,
   "id": "db40758b",
   "metadata": {},
   "outputs": [
    {
     "name": "stdout",
     "output_type": "stream",
     "text": [
      "{7: 2, 9: 8}\n"
     ]
    }
   ],
   "source": [
    "import json\n",
    "\n",
    "\n",
    "# Diverse agile planning\n",
    "plans = planners.plan_diverse_agl(domain_file=domain_file, problem_file=problem_file, number_of_plans_bound=10, timeout=30)\n",
    "print(count_plans_by_cost(plans[\"plans\"]))"
   ]
  },
  {
   "cell_type": "markdown",
   "id": "16a4474b",
   "metadata": {},
   "source": [
    "### Planner output"
   ]
  },
  {
   "cell_type": "code",
   "execution_count": 4,
   "id": "91dec32e",
   "metadata": {},
   "outputs": [
    {
     "name": "stdout",
     "output_type": "stream",
     "text": [
      "[\n",
      "    {\n",
      "        \"cost\": 7,\n",
      "        \"actions\": [\n",
      "            \"pick ball1 rooma left\",\n",
      "            \"move rooma roomb\",\n",
      "            \"drop ball1 roomb left\",\n",
      "            \"move roomb rooma\",\n",
      "            \"pick ball2 rooma left\",\n",
      "            \"move rooma roomb\",\n",
      "            \"drop ball2 roomb left\"\n",
      "        ]\n",
      "    },\n",
      "    {\n",
      "        \"cost\": 7,\n",
      "        \"actions\": [\n",
      "            \"pick ball1 rooma right\",\n",
      "            \"move rooma roomb\",\n",
      "            \"drop ball1 roomb right\",\n",
      "            \"move roomb rooma\",\n",
      "            \"pick ball2 rooma right\",\n",
      "            \"move rooma roomb\",\n",
      "            \"drop ball2 roomb right\"\n",
      "        ]\n",
      "    },\n",
      "    {\n",
      "        \"cost\": 9,\n",
      "        \"actions\": [\n",
      "            \"pick ball1 rooma left\",\n",
      "            \"move rooma roomb\",\n",
      "            \"drop ball1 roomb left\",\n",
      "            \"move roomb rooma\",\n",
      "            \"pick ball2 rooma left\",\n",
      "            \"move rooma roomb\",\n",
      "            \"pick ball1 roomb right\",\n",
      "            \"drop ball1 roomb right\",\n",
      "            \"drop ball2 roomb left\"\n",
      "        ]\n",
      "    },\n",
      "    {\n",
      "        \"cost\": 9,\n",
      "        \"actions\": [\n",
      "            \"pick ball1 rooma right\",\n",
      "            \"move rooma roomb\",\n",
      "            \"drop ball1 roomb right\",\n",
      "            \"move roomb rooma\",\n",
      "            \"pick ball2 rooma right\",\n",
      "            \"move rooma roomb\",\n",
      "            \"pick ball1 roomb left\",\n",
      "            \"drop ball1 roomb left\",\n",
      "            \"drop ball2 roomb right\"\n",
      "        ]\n",
      "    },\n",
      "    {\n",
      "        \"cost\": 9,\n",
      "        \"actions\": [\n",
      "            \"pick ball2 rooma left\",\n",
      "            \"move rooma roomb\",\n",
      "            \"drop ball2 roomb left\",\n",
      "            \"move roomb rooma\",\n",
      "            \"pick ball1 rooma left\",\n",
      "            \"move rooma roomb\",\n",
      "            \"pick ball2 roomb right\",\n",
      "            \"drop ball2 roomb right\",\n",
      "            \"drop ball1 roomb left\"\n",
      "        ]\n",
      "    },\n",
      "    {\n",
      "        \"cost\": 9,\n",
      "        \"actions\": [\n",
      "            \"pick ball2 rooma right\",\n",
      "            \"move rooma roomb\",\n",
      "            \"drop ball2 roomb right\",\n",
      "            \"move roomb rooma\",\n",
      "            \"pick ball1 rooma right\",\n",
      "            \"move rooma roomb\",\n",
      "            \"pick ball2 roomb left\",\n",
      "            \"drop ball2 roomb left\",\n",
      "            \"drop ball1 roomb right\"\n",
      "        ]\n",
      "    },\n",
      "    {\n",
      "        \"cost\": 9,\n",
      "        \"actions\": [\n",
      "            \"pick ball1 rooma left\",\n",
      "            \"move rooma roomb\",\n",
      "            \"drop ball1 roomb left\",\n",
      "            \"pick ball1 roomb left\",\n",
      "            \"drop ball1 roomb left\",\n",
      "            \"move roomb rooma\",\n",
      "            \"pick ball2 rooma left\",\n",
      "            \"move rooma roomb\",\n",
      "            \"drop ball2 roomb left\"\n",
      "        ]\n",
      "    },\n",
      "    {\n",
      "        \"cost\": 9,\n",
      "        \"actions\": [\n",
      "            \"pick ball1 rooma right\",\n",
      "            \"move rooma roomb\",\n",
      "            \"drop ball1 roomb right\",\n",
      "            \"pick ball1 roomb right\",\n",
      "            \"drop ball1 roomb right\",\n",
      "            \"move roomb rooma\",\n",
      "            \"pick ball2 rooma right\",\n",
      "            \"move rooma roomb\",\n",
      "            \"drop ball2 roomb right\"\n",
      "        ]\n",
      "    },\n",
      "    {\n",
      "        \"cost\": 9,\n",
      "        \"actions\": [\n",
      "            \"pick ball2 rooma left\",\n",
      "            \"move rooma roomb\",\n",
      "            \"drop ball2 roomb left\",\n",
      "            \"pick ball2 roomb left\",\n",
      "            \"drop ball2 roomb left\",\n",
      "            \"move roomb rooma\",\n",
      "            \"pick ball1 rooma left\",\n",
      "            \"move rooma roomb\",\n",
      "            \"drop ball1 roomb left\"\n",
      "        ]\n",
      "    },\n",
      "    {\n",
      "        \"cost\": 9,\n",
      "        \"actions\": [\n",
      "            \"pick ball2 rooma right\",\n",
      "            \"move rooma roomb\",\n",
      "            \"drop ball2 roomb right\",\n",
      "            \"pick ball2 roomb right\",\n",
      "            \"drop ball2 roomb right\",\n",
      "            \"move roomb rooma\",\n",
      "            \"pick ball1 rooma right\",\n",
      "            \"move rooma roomb\",\n",
      "            \"drop ball1 roomb right\"\n",
      "        ]\n",
      "    }\n",
      "]\n"
     ]
    }
   ],
   "source": [
    "print(json.dumps(plans[\"plans\"], indent=4))\n"
   ]
  },
  {
   "cell_type": "markdown",
   "id": "81ad58db",
   "metadata": {},
   "source": [
    "## Unordered top-quality planning"
   ]
  },
  {
   "cell_type": "code",
   "execution_count": 5,
   "id": "aa13b403",
   "metadata": {},
   "outputs": [
    {
     "name": "stdout",
     "output_type": "stream",
     "text": [
      "{5: 2, 6: 2, 7: 20}\n"
     ]
    }
   ],
   "source": [
    "# FI-unordered-top-quality\n",
    "plans = planners.plan_unordered_topq(domain_file=domain_file, problem_file=problem_file, quality_bound=1.4, number_of_plans_bound=1000, timeout=30)\n",
    "print(count_plans_by_cost(plans[\"plans\"]))"
   ]
  },
  {
   "cell_type": "markdown",
   "id": "be52d4a9",
   "metadata": {},
   "source": [
    "## Subsets top-quality planning "
   ]
  },
  {
   "cell_type": "code",
   "execution_count": 6,
   "id": "510f462a",
   "metadata": {},
   "outputs": [
    {
     "name": "stdout",
     "output_type": "stream",
     "text": [
      "{5: 2, 7: 2}\n"
     ]
    }
   ],
   "source": [
    "\n",
    "# FI-subsets-top-quality\n",
    "plans = planners.plan_subsets_topq(domain_file=domain_file, problem_file=problem_file, quality_bound=1.4, number_of_plans_bound=1000, timeout=30)\n",
    "print(count_plans_by_cost(plans[\"plans\"]))"
   ]
  }
 ],
 "metadata": {
  "kernelspec": {
   "display_name": "Python 3 (ipykernel)",
   "language": "python",
   "name": "python3"
  },
  "language_info": {
   "codemirror_mode": {
    "name": "ipython",
    "version": 3
   },
   "file_extension": ".py",
   "mimetype": "text/x-python",
   "name": "python",
   "nbconvert_exporter": "python",
   "pygments_lexer": "ipython3",
   "version": "3.11.5"
  }
 },
 "nbformat": 4,
 "nbformat_minor": 5
}
